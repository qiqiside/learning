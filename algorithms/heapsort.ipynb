{
 "cells": [
  {
   "cell_type": "code",
   "execution_count": 2,
   "metadata": {
    "collapsed": true
   },
   "outputs": [],
   "source": [
    "# %load 'common.py'\n",
    "import random\n",
    "import copy\n",
    "\n",
    "\n",
    "def gen_data(num, min=10, max=1000):\n",
    "    data = []\n",
    "    for x in range(num):\n",
    "        data.append(random.randint(min, max))\n",
    "    return data\n",
    "\n",
    "def shuffle(l):\n",
    "    l = clone(l)\n",
    "    random.shuffle(l)\n",
    "    return l\n",
    "\n",
    "def sort(l):\n",
    "    l = clone(l)\n",
    "    l.sort()\n",
    "    return l\n",
    "\n",
    "def clone(o):\n",
    "    return copy.deepcopy(o)\n",
    "\n",
    "def br():\n",
    "    print ('-' * 80)\n"
   ]
  },
  {
   "cell_type": "code",
   "execution_count": 3,
   "metadata": {
    "collapsed": true
   },
   "outputs": [],
   "source": [
    "class HeapSort:\n",
    "    \n",
    "    def __init__(self, data):\n",
    "        self.A = data\n",
    "        self.heapSize = None\n",
    "    \n",
    "    def parent(self, i):\n",
    "        return i // 2\n",
    "    \n",
    "    def left(self, i):\n",
    "        return 2 * i + 1\n",
    "    \n",
    "    def right(self, i):\n",
    "        return 2 * i + 2\n",
    "\n",
    "    def maxHeapify(self, i):\n",
    "        if i >= self.heapSize:\n",
    "            return\n",
    "        \n",
    "        l = self.left(i)\n",
    "        r = self.right(i)\n",
    "        \n",
    "        if l < self.heapSize and self.A[l] > self.A[i]:\n",
    "            largest = l\n",
    "        else:\n",
    "            largest = i\n",
    "        \n",
    "        if r < self.heapSize and self.A[r] > self.A[largest]:\n",
    "            largest = r\n",
    "        \n",
    "        if largest != i:\n",
    "            self.A[i], self.A[largest] = self.A[largest], self.A[i]\n",
    "            self.maxHeapify(largest)\n",
    "         \n",
    "    def buildMaxHeap(self):\n",
    "        self.heapSize = len(self.A)\n",
    "        for i in range(len(self.A) // 2 - 1, -1, -1):\n",
    "            self.maxHeapify(i)     \n",
    "\n",
    "    def sort(self):\n",
    "        self.buildMaxHeap()\n",
    "\n",
    "        for i in range(len(self.A) - 1, 0, -1):\n",
    "            self.A[0], self.A[i] = self.A[i], self.A[0]\n",
    "            self.heapSize -= 1\n",
    "            self.maxHeapify(0)\n",
    "        \n",
    "        return self.A\n",
    "    "
   ]
  },
  {
   "cell_type": "code",
   "execution_count": 4,
   "metadata": {},
   "outputs": [
    {
     "name": "stdout",
     "output_type": "stream",
     "text": [
      "original data = [414, 825, 316, 988, 791, 470, 878, 846, 169, 565]\n",
      "sorted   data = [169, 316, 414, 470, 565, 791, 825, 846, 878, 988]\n"
     ]
    }
   ],
   "source": [
    "data = gen_data(10)\n",
    "print('original data =', data)\n",
    "\n",
    "heapSort = HeapSort(data)\n",
    "\n",
    "print('sorted   data =', heapSort.sort())"
   ]
  }
 ],
 "metadata": {
  "kernelspec": {
   "display_name": "Python 3",
   "language": "python",
   "name": "python3"
  },
  "language_info": {
   "codemirror_mode": {
    "name": "ipython",
    "version": 3
   },
   "file_extension": ".py",
   "mimetype": "text/x-python",
   "name": "python",
   "nbconvert_exporter": "python",
   "pygments_lexer": "ipython3",
   "version": "3.6.2"
  }
 },
 "nbformat": 4,
 "nbformat_minor": 2
}
