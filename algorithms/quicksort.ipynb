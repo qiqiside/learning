{
 "cells": [
  {
   "cell_type": "code",
   "execution_count": 4,
   "metadata": {
    "collapsed": true
   },
   "outputs": [],
   "source": [
    "# %load 'common.py'\n",
    "import random\n",
    "\n",
    "\n",
    "def gen_data(num, min=10, max=1000):\n",
    "    data = []\n",
    "    for x in range(10):\n",
    "        data.append(random.randint(min, max))\n",
    "    return data\n",
    "\n",
    "\n"
   ]
  },
  {
   "cell_type": "code",
   "execution_count": 5,
   "metadata": {
    "collapsed": true
   },
   "outputs": [],
   "source": [
    "class QuickSort:\n",
    "    \n",
    "    def __init__(self, data):\n",
    "        self.A = data\n",
    "    \n",
    "    def quicksort(self, p, r):\n",
    "        if p < r and p >= 0 and r < len(self.A):\n",
    "            q = self.partition(p, r)\n",
    "            self.quicksort(p, q - 1)\n",
    "            self.quicksort(q + 1, r)\n",
    "        \n",
    "    def partition(self, p, r):\n",
    "        A = self.A\n",
    "        x = A[r]\n",
    "        i = p - 1\n",
    "        \n",
    "        for j in range(p, r):\n",
    "            if A[j] <= x:\n",
    "                i += 1\n",
    "                \n",
    "                A[i], A[j] = A[j], A[i]\n",
    "        \n",
    "        A[i + 1], A[r] = A[r], A[i + 1]\n",
    "        \n",
    "        return i + 1\n",
    "\n",
    "    def sort(self):\n",
    "        self.quicksort(0, len(self.A) - 1)        \n",
    "        return self.A\n",
    "    "
   ]
  },
  {
   "cell_type": "code",
   "execution_count": 6,
   "metadata": {},
   "outputs": [
    {
     "name": "stdout",
     "output_type": "stream",
     "text": [
      "original data = [993, 502, 647, 637, 486, 624, 831, 29, 698, 330]\n",
      "sorted   data = [29, 330, 486, 502, 624, 637, 647, 698, 831, 993]\n"
     ]
    }
   ],
   "source": [
    "data = gen_data(10)\n",
    "print('original data =', data)\n",
    "\n",
    "quickSort = QuickSort(data)\n",
    "\n",
    "print('sorted   data =', quickSort.sort())"
   ]
  }
 ],
 "metadata": {
  "kernelspec": {
   "display_name": "Python 3",
   "language": "python",
   "name": "python3"
  },
  "language_info": {
   "codemirror_mode": {
    "name": "ipython",
    "version": 3
   },
   "file_extension": ".py",
   "mimetype": "text/x-python",
   "name": "python",
   "nbconvert_exporter": "python",
   "pygments_lexer": "ipython3",
   "version": "3.6.2"
  }
 },
 "nbformat": 4,
 "nbformat_minor": 2
}
