{
 "cells": [
  {
   "cell_type": "code",
   "execution_count": 48,
   "metadata": {
    "collapsed": true
   },
   "outputs": [],
   "source": [
    "# %load 'common.py'\n",
    "import random\n",
    "\n",
    "\n",
    "def gen_data(num, min=10, max=1000):\n",
    "    data = []\n",
    "    for x in range(num):\n",
    "        data.append(random.randint(min, max))\n",
    "    return data\n",
    "\n",
    "\n"
   ]
  },
  {
   "cell_type": "code",
   "execution_count": 49,
   "metadata": {
    "collapsed": true
   },
   "outputs": [],
   "source": [
    "class RandomizedQuickSort:\n",
    "    \n",
    "    def __init__(self, data):\n",
    "        self.A = data\n",
    "    \n",
    "    def randomizedQuicksort(self, p, r):\n",
    "        if p < r and p >= 0 and r < len(self.A):\n",
    "            q = self.randomizedPartition(p, r)\n",
    "            self.randomizedQuicksort(p, q - 1)\n",
    "            self.randomizedQuicksort(q + 1, r)\n",
    "    \n",
    "    def randomizedPartition(self, p, r):\n",
    "        i = random.randint(p, r)\n",
    "        A = self.A\n",
    "        \n",
    "        A[r], A[i] = A[i], A[r]\n",
    "        \n",
    "        return self.partition(p, r)\n",
    "    \n",
    "    def partition(self, p, r):\n",
    "        A = self.A\n",
    "        x = A[r]\n",
    "        i = p - 1\n",
    "        \n",
    "        for j in range(p, r):\n",
    "            if A[j] <= x:\n",
    "                i += 1\n",
    "                \n",
    "                A[i], A[j] = A[j], A[i]\n",
    "        \n",
    "        A[i + 1], A[r] = A[r], A[i + 1]\n",
    "        \n",
    "        return i + 1\n",
    "\n",
    "    def sort(self):\n",
    "        self.randomizedQuicksort(0, len(self.A) - 1)\n",
    "        return self.A\n",
    "        "
   ]
  },
  {
   "cell_type": "code",
   "execution_count": 50,
   "metadata": {},
   "outputs": [
    {
     "name": "stdout",
     "output_type": "stream",
     "text": [
      "original data = [895, 591, 718, 583, 857, 186, 327, 972, 159, 637]\n",
      "sorted   data = [159, 186, 327, 583, 591, 637, 718, 857, 895, 972]\n"
     ]
    }
   ],
   "source": [
    "data = gen_data(10)\n",
    "print('original data =', data)\n",
    "\n",
    "randomizedQuickSort = RandomizedQuickSort(data)\n",
    "\n",
    "print('sorted   data =', randomizedQuickSort.sort())"
   ]
  }
 ],
 "metadata": {
  "kernelspec": {
   "display_name": "Python 3",
   "language": "python",
   "name": "python3"
  },
  "language_info": {
   "codemirror_mode": {
    "name": "ipython",
    "version": 3
   },
   "file_extension": ".py",
   "mimetype": "text/x-python",
   "name": "python",
   "nbconvert_exporter": "python",
   "pygments_lexer": "ipython3",
   "version": "3.6.2"
  }
 },
 "nbformat": 4,
 "nbformat_minor": 2
}
