{
 "cells": [
  {
   "cell_type": "code",
   "execution_count": 13,
   "metadata": {
    "collapsed": true
   },
   "outputs": [],
   "source": [
    "class Element:\n",
    "    \n",
    "    def __init__(self, k):\n",
    "        self.key = k\n",
    "        self.prev = self.next = None\n",
    "    \n",
    "    def __str__(self):\n",
    "        return str(self.key)\n",
    "    "
   ]
  },
  {
   "cell_type": "code",
   "execution_count": 14,
   "metadata": {
    "collapsed": true
   },
   "outputs": [],
   "source": [
    "class SentinelList:\n",
    "    \n",
    "    def __init__(self):\n",
    "        self.nil = Element('NIL')\n",
    "        self.nil.prev = self.nil.next = self.nil\n",
    "    \n",
    "    def search(self, k):\n",
    "        x = self.nil.next\n",
    "        while x != self.nil and x.key != k:\n",
    "            x = x.next\n",
    "        return x\n",
    "    \n",
    "    def insert(self, x):\n",
    "        x.next = self.nil.next\n",
    "        self.nil.next.prev = x\n",
    "        self.nil.next = x\n",
    "        x.prev = self.nil\n",
    "    \n",
    "    def remove(self, x):\n",
    "        x.prev.next = x.next\n",
    "        x.next.prev = x.prev\n",
    "        "
   ]
  },
  {
   "cell_type": "code",
   "execution_count": 15,
   "metadata": {},
   "outputs": [
    {
     "name": "stdout",
     "output_type": "stream",
     "text": [
      "search(12): NIL\n",
      "insert: 12\n",
      "search(12): 12\n",
      "remove: 12\n",
      "nil.next: NIL\n"
     ]
    }
   ],
   "source": [
    "L = SentinelList()\n",
    "\n",
    "k = 12\n",
    "x = L.search(k)\n",
    "print ('search({}):'.format(k), x)\n",
    "\n",
    "L.insert(Element(k))\n",
    "print ('insert:', k)\n",
    "\n",
    "k = 12\n",
    "x = L.search(k)\n",
    "print ('search({}):'.format(k), x)\n",
    "\n",
    "L.remove(x)\n",
    "print ('remove:', x)\n",
    "print ('nil.next:', L.nil.next)\n"
   ]
  }
 ],
 "metadata": {
  "kernelspec": {
   "display_name": "Python 3",
   "language": "python",
   "name": "python3"
  },
  "language_info": {
   "codemirror_mode": {
    "name": "ipython",
    "version": 3
   },
   "file_extension": ".py",
   "mimetype": "text/x-python",
   "name": "python",
   "nbconvert_exporter": "python",
   "pygments_lexer": "ipython3",
   "version": "3.6.2"
  }
 },
 "nbformat": 4,
 "nbformat_minor": 2
}
