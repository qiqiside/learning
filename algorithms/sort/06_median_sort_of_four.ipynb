{
 "cells": [
  {
   "cell_type": "code",
   "execution_count": 22,
   "metadata": {
    "collapsed": true
   },
   "outputs": [],
   "source": [
    "from common import Sort"
   ]
  },
  {
   "cell_type": "code",
   "execution_count": 23,
   "metadata": {
    "collapsed": true
   },
   "outputs": [],
   "source": [
    "class MedianSortOfFour(Sort):\n",
    "    \n",
    "    def __init__(self, A = []):\n",
    "        super(MedianSortOfFour, self).__init__(A)\n",
    "    \n",
    "    def medianOfFour(self, left, gap):\n",
    "        A = self.A\n",
    "        a1, a2, a3, a4 = A[left], A[left + gap], A[left + gap * 2], A[left + gap * 3]\n",
    "        \n",
    "        if a1 <= a2:\n",
    "            if a2 <= a3:\n",
    "                if a2 <= a4:\n",
    "                    if a3 > a4:\n",
    "                        A[left + gap * 2], A[left + gap * 3] = A[left + gap * 3], A[left + gap * 2]\n",
    "                else:\n",
    "                    A[left + gap], A[left + gap * 2] = A[left + gap * 2], A[left + gap]\n",
    "            else:\n",
    "                if a1 <= a3:\n",
    "                    if a3 <= a4:\n",
    "                        if a2 <= a4:\n",
    "                            A[left + gap], A[left + gap * 2] = A[left + gap * 2], A[left + gap]\n",
    "                        else:\n",
    "                            A[left + gap * 2], A[left + gap * 3] = A[left + gap * 3], A[left + gap * 2]\n",
    "                else:\n",
    "                    if a1 <= a4:\n",
    "                        if a2 <= a4:\n",
    "                            A[left + gap], A[left + gap * 2] = A[left + gap * 2], A[left + gap]\n",
    "                        else:\n",
    "                            A[left + gap * 2], A[left + gap * 3] = A[left + gap * 3], A[left + gap * 2]\n",
    "                    else:\n",
    "                        A[left], A[left + gap * 2] = A[left + gap * 2], A[left]\n",
    "        else:\n",
    "            if a1 <= a3:\n",
    "                if a1 <= a4:\n",
    "                    if a3 > a4:\n",
    "                        A[left + gap * 2], A[left + gap * 3] = A[left + gap * 3], A[left + gap * 2]\n",
    "            else:\n",
    "                if a2 <= a3:\n",
    "                    if a3 <= a4:\n",
    "                        if a1 <= a4:\n",
    "                            A[left + gap], A[left + gap * 2] = A[left + gap * 2], A[left + gap]\n",
    "                        else:\n",
    "                            A[left + gap * 2], A[left + gap * 3] = A[left + gap * 3], A[left + gap * 2]\n",
    "                    if a2 <= a4:\n",
    "                        if a1 <= a4:\n",
    "                            A[left + gap], A[left + gap * 2] = A[left + gap * 2], A[left + gap]\n",
    "                        else:\n",
    "                            A[left + gap * 2], A[left + gap * 3] = A[left + gap * 3], A[left + gap * 2]\n",
    "                    else:\n",
    "                        A[left + gap], A[left + gap * 2] = A[left + gap * 2], A[left + gap]\n",
    "                            \n",
    "    def insertion(self, low, high, gap):\n",
    "        A = self.A\n",
    "        \n",
    "        for loc in range(low + gap, high + 1, gap):\n",
    "            i = loc - gap\n",
    "            value = A[loc]\n",
    "            \n",
    "            while i >= low and A[i] > value:\n",
    "                A[i + gap] = A[i]\n",
    "                i -= gap\n",
    "            \n",
    "            A[i + gap] = value\n",
    "        \n",
    "    def medianOfMedians(self, left, right, gap):\n",
    "        span = 4 * gap\n",
    "        \n",
    "        num = (right - left + 1) // span\n",
    "        if num == 0:\n",
    "            self.insertion(left, right, gap)\n",
    "            num = (right - left + 1) // gap\n",
    "            return left + gap * (num - 1) // 2\n",
    "    \n",
    "        for s in range(left, right - span, span):\n",
    "            self.medianOfFour(s, gap)\n",
    "        \n",
    "        if num < 4:\n",
    "            self.insertion(left + span // 2, right, span)\n",
    "            return left + num * span // 2\n",
    "        else:\n",
    "            return self.medianOfMedians(left + span // 2, s - 1, span)\n",
    "        \n",
    "    def partition(self, lo, hi, pivotIndex):\n",
    "        A = self.A\n",
    "        pivot = A[pivotIndex]\n",
    "        \n",
    "        A[hi], A[pivotIndex] = A[pivotIndex], A[hi]\n",
    "        \n",
    "        store = lo\n",
    "        for idx in range(lo, hi):\n",
    "            if A[idx] < pivot:\n",
    "                A[idx], A[store] = A[store], A[idx]\n",
    "                store += 1\n",
    "        \n",
    "        A[hi], A[store] = A[store], A[hi]\n",
    "        \n",
    "        return store\n",
    "\n",
    "    def selectMedian(self, left, right):\n",
    "        k = (right - left + 1) // 2        \n",
    "        while k > 0:\n",
    "            idx = self.medianOfMedians(left, right, 1)\n",
    "            pivotIndex = self.partition(left, right, idx)\n",
    "            \n",
    "            p = left + k\n",
    "            \n",
    "            if p == pivotIndex:\n",
    "                return pivotIndex\n",
    "            elif p < pivotIndex:\n",
    "                right = pivotIndex - 1\n",
    "            else:\n",
    "                k = k - (pivotIndex - left + 1)\n",
    "                left = pivotIndex + 1\n",
    "        \n",
    "        return left\n",
    "    \n",
    "    def medianSort(self, lo, hi):\n",
    "        if hi <= lo:\n",
    "            return\n",
    "        \n",
    "        mid = self.selectMedian(lo, hi)        \n",
    "        self.medianSort(lo, lo + mid - 1)\n",
    "        self.medianSort(lo + mid + 1, hi)\n",
    "        \n",
    "    def _sort(self):\n",
    "        self.medianSort(self.start, self.end)        \n",
    "        return self.A\n",
    "    "
   ]
  },
  {
   "cell_type": "code",
   "execution_count": 24,
   "metadata": {
    "scrolled": false
   },
   "outputs": [
    {
     "data": {
      "image/svg+xml": [
       "<?xml version=\"1.0\" encoding=\"UTF-8\" standalone=\"no\"?>\n",
       "<!DOCTYPE svg PUBLIC \"-//W3C//DTD SVG 1.1//EN\"\n",
       " \"http://www.w3.org/Graphics/SVG/1.1/DTD/svg11.dtd\">\n",
       "<!-- Generated by graphviz version 2.28.0 (20111028.1807)\n",
       " -->\n",
       "<!-- Title: structs Pages: 1 -->\n",
       "<svg width=\"62pt\" height=\"44pt\"\n",
       " viewBox=\"0.00 0.00 62.00 44.00\" xmlns=\"http://www.w3.org/2000/svg\" xmlns:xlink=\"http://www.w3.org/1999/xlink\">\n",
       "<g id=\"graph1\" class=\"graph\" transform=\"scale(1 1) rotate(0) translate(4 40)\">\n",
       "<title>structs</title>\n",
       "<polygon fill=\"white\" stroke=\"white\" points=\"-4,5 -4,-40 59,-40 59,5 -4,5\"/>\n",
       "<!-- struct1 -->\n",
       "<g id=\"node1\" class=\"node\"><title>struct1</title>\n",
       "<polygon fill=\"none\" stroke=\"black\" points=\"24,-14 24,-21 31,-21 31,-14 24,-14\"/>\n",
       "</g>\n",
       "</g>\n",
       "</svg>\n"
      ],
      "text/plain": [
       "<graphviz.dot.Digraph at 0x107511fd0>"
      ]
     },
     "metadata": {},
     "output_type": "display_data"
    },
    {
     "data": {
      "image/svg+xml": [
       "<?xml version=\"1.0\" encoding=\"UTF-8\" standalone=\"no\"?>\n",
       "<!DOCTYPE svg PUBLIC \"-//W3C//DTD SVG 1.1//EN\"\n",
       " \"http://www.w3.org/Graphics/SVG/1.1/DTD/svg11.dtd\">\n",
       "<!-- Generated by graphviz version 2.28.0 (20111028.1807)\n",
       " -->\n",
       "<!-- Title: structs Pages: 1 -->\n",
       "<svg width=\"62pt\" height=\"44pt\"\n",
       " viewBox=\"0.00 0.00 62.00 44.00\" xmlns=\"http://www.w3.org/2000/svg\" xmlns:xlink=\"http://www.w3.org/1999/xlink\">\n",
       "<g id=\"graph1\" class=\"graph\" transform=\"scale(1 1) rotate(0) translate(4 40)\">\n",
       "<title>structs</title>\n",
       "<polygon fill=\"white\" stroke=\"white\" points=\"-4,5 -4,-40 59,-40 59,5 -4,5\"/>\n",
       "<!-- struct1 -->\n",
       "<g id=\"node1\" class=\"node\"><title>struct1</title>\n",
       "<polygon fill=\"none\" stroke=\"black\" points=\"24,-14 24,-21 31,-21 31,-14 24,-14\"/>\n",
       "</g>\n",
       "</g>\n",
       "</svg>\n"
      ],
      "text/plain": [
       "<graphviz.dot.Digraph at 0x107511fd0>"
      ]
     },
     "metadata": {},
     "output_type": "display_data"
    },
    {
     "name": "stdout",
     "output_type": "stream",
     "text": [
      "  verify = True\n",
      "\n",
      "\n",
      "\n"
     ]
    },
    {
     "data": {
      "image/svg+xml": [
       "<?xml version=\"1.0\" encoding=\"UTF-8\" standalone=\"no\"?>\n",
       "<!DOCTYPE svg PUBLIC \"-//W3C//DTD SVG 1.1//EN\"\n",
       " \"http://www.w3.org/Graphics/SVG/1.1/DTD/svg11.dtd\">\n",
       "<!-- Generated by graphviz version 2.28.0 (20111028.1807)\n",
       " -->\n",
       "<!-- Title: structs Pages: 1 -->\n",
       "<svg width=\"62pt\" height=\"44pt\"\n",
       " viewBox=\"0.00 0.00 62.00 44.00\" xmlns=\"http://www.w3.org/2000/svg\" xmlns:xlink=\"http://www.w3.org/1999/xlink\">\n",
       "<g id=\"graph1\" class=\"graph\" transform=\"scale(1 1) rotate(0) translate(4 40)\">\n",
       "<title>structs</title>\n",
       "<polygon fill=\"white\" stroke=\"white\" points=\"-4,5 -4,-40 59,-40 59,5 -4,5\"/>\n",
       "<!-- struct1 -->\n",
       "<g id=\"node1\" class=\"node\"><title>struct1</title>\n",
       "<polygon fill=\"none\" stroke=\"black\" points=\"13,-7 13,-28 41,-28 41,-7 13,-7\"/>\n",
       "<text text-anchor=\"start\" x=\"16.5\" y=\"-11.5\" font-family=\"Times,serif\" font-size=\"14.00\">165</text>\n",
       "</g>\n",
       "</g>\n",
       "</svg>\n"
      ],
      "text/plain": [
       "<graphviz.dot.Digraph at 0x107511fd0>"
      ]
     },
     "metadata": {},
     "output_type": "display_data"
    },
    {
     "data": {
      "image/svg+xml": [
       "<?xml version=\"1.0\" encoding=\"UTF-8\" standalone=\"no\"?>\n",
       "<!DOCTYPE svg PUBLIC \"-//W3C//DTD SVG 1.1//EN\"\n",
       " \"http://www.w3.org/Graphics/SVG/1.1/DTD/svg11.dtd\">\n",
       "<!-- Generated by graphviz version 2.28.0 (20111028.1807)\n",
       " -->\n",
       "<!-- Title: structs Pages: 1 -->\n",
       "<svg width=\"62pt\" height=\"44pt\"\n",
       " viewBox=\"0.00 0.00 62.00 44.00\" xmlns=\"http://www.w3.org/2000/svg\" xmlns:xlink=\"http://www.w3.org/1999/xlink\">\n",
       "<g id=\"graph1\" class=\"graph\" transform=\"scale(1 1) rotate(0) translate(4 40)\">\n",
       "<title>structs</title>\n",
       "<polygon fill=\"white\" stroke=\"white\" points=\"-4,5 -4,-40 59,-40 59,5 -4,5\"/>\n",
       "<!-- struct1 -->\n",
       "<g id=\"node1\" class=\"node\"><title>struct1</title>\n",
       "<polygon fill=\"none\" stroke=\"black\" points=\"13,-7 13,-28 41,-28 41,-7 13,-7\"/>\n",
       "<text text-anchor=\"start\" x=\"16.5\" y=\"-11.5\" font-family=\"Times,serif\" font-size=\"14.00\">165</text>\n",
       "</g>\n",
       "</g>\n",
       "</svg>\n"
      ],
      "text/plain": [
       "<graphviz.dot.Digraph at 0x107511fd0>"
      ]
     },
     "metadata": {},
     "output_type": "display_data"
    },
    {
     "name": "stdout",
     "output_type": "stream",
     "text": [
      "  verify = True\n",
      "\n",
      "\n",
      "\n"
     ]
    },
    {
     "data": {
      "image/svg+xml": [
       "<?xml version=\"1.0\" encoding=\"UTF-8\" standalone=\"no\"?>\n",
       "<!DOCTYPE svg PUBLIC \"-//W3C//DTD SVG 1.1//EN\"\n",
       " \"http://www.w3.org/Graphics/SVG/1.1/DTD/svg11.dtd\">\n",
       "<!-- Generated by graphviz version 2.28.0 (20111028.1807)\n",
       " -->\n",
       "<!-- Title: structs Pages: 1 -->\n",
       "<svg width=\"78pt\" height=\"44pt\"\n",
       " viewBox=\"0.00 0.00 78.00 44.00\" xmlns=\"http://www.w3.org/2000/svg\" xmlns:xlink=\"http://www.w3.org/1999/xlink\">\n",
       "<g id=\"graph1\" class=\"graph\" transform=\"scale(1 1) rotate(0) translate(4 40)\">\n",
       "<title>structs</title>\n",
       "<polygon fill=\"white\" stroke=\"white\" points=\"-4,5 -4,-40 75,-40 75,5 -4,5\"/>\n",
       "<!-- struct1 -->\n",
       "<g id=\"node1\" class=\"node\"><title>struct1</title>\n",
       "<polygon fill=\"none\" stroke=\"black\" points=\"8,-7 8,-28 36,-28 36,-7 8,-7\"/>\n",
       "<text text-anchor=\"start\" x=\"11.5\" y=\"-11.5\" font-family=\"Times,serif\" font-size=\"14.00\">981</text>\n",
       "<polygon fill=\"none\" stroke=\"black\" points=\"36,-7 36,-28 63,-28 63,-7 36,-7\"/>\n",
       "<text text-anchor=\"start\" x=\"39\" y=\"-11.5\" font-family=\"Times,serif\" font-size=\"14.00\">591</text>\n",
       "</g>\n",
       "</g>\n",
       "</svg>\n"
      ],
      "text/plain": [
       "<graphviz.dot.Digraph at 0x107511898>"
      ]
     },
     "metadata": {},
     "output_type": "display_data"
    },
    {
     "data": {
      "image/svg+xml": [
       "<?xml version=\"1.0\" encoding=\"UTF-8\" standalone=\"no\"?>\n",
       "<!DOCTYPE svg PUBLIC \"-//W3C//DTD SVG 1.1//EN\"\n",
       " \"http://www.w3.org/Graphics/SVG/1.1/DTD/svg11.dtd\">\n",
       "<!-- Generated by graphviz version 2.28.0 (20111028.1807)\n",
       " -->\n",
       "<!-- Title: structs Pages: 1 -->\n",
       "<svg width=\"78pt\" height=\"44pt\"\n",
       " viewBox=\"0.00 0.00 78.00 44.00\" xmlns=\"http://www.w3.org/2000/svg\" xmlns:xlink=\"http://www.w3.org/1999/xlink\">\n",
       "<g id=\"graph1\" class=\"graph\" transform=\"scale(1 1) rotate(0) translate(4 40)\">\n",
       "<title>structs</title>\n",
       "<polygon fill=\"white\" stroke=\"white\" points=\"-4,5 -4,-40 75,-40 75,5 -4,5\"/>\n",
       "<!-- struct1 -->\n",
       "<g id=\"node1\" class=\"node\"><title>struct1</title>\n",
       "<polygon fill=\"none\" stroke=\"black\" points=\"8,-7 8,-28 36,-28 36,-7 8,-7\"/>\n",
       "<text text-anchor=\"start\" x=\"11.5\" y=\"-11.5\" font-family=\"Times,serif\" font-size=\"14.00\">591</text>\n",
       "<polygon fill=\"none\" stroke=\"black\" points=\"36,-7 36,-28 63,-28 63,-7 36,-7\"/>\n",
       "<text text-anchor=\"start\" x=\"39\" y=\"-11.5\" font-family=\"Times,serif\" font-size=\"14.00\">981</text>\n",
       "</g>\n",
       "</g>\n",
       "</svg>\n"
      ],
      "text/plain": [
       "<graphviz.dot.Digraph at 0x107511898>"
      ]
     },
     "metadata": {},
     "output_type": "display_data"
    },
    {
     "name": "stdout",
     "output_type": "stream",
     "text": [
      "  verify = True\n",
      "\n",
      "\n",
      "\n"
     ]
    },
    {
     "data": {
      "image/svg+xml": [
       "<?xml version=\"1.0\" encoding=\"UTF-8\" standalone=\"no\"?>\n",
       "<!DOCTYPE svg PUBLIC \"-//W3C//DTD SVG 1.1//EN\"\n",
       " \"http://www.w3.org/Graphics/SVG/1.1/DTD/svg11.dtd\">\n",
       "<!-- Generated by graphviz version 2.28.0 (20111028.1807)\n",
       " -->\n",
       "<!-- Title: structs Pages: 1 -->\n",
       "<svg width=\"106pt\" height=\"44pt\"\n",
       " viewBox=\"0.00 0.00 106.00 44.00\" xmlns=\"http://www.w3.org/2000/svg\" xmlns:xlink=\"http://www.w3.org/1999/xlink\">\n",
       "<g id=\"graph1\" class=\"graph\" transform=\"scale(1 1) rotate(0) translate(4 40)\">\n",
       "<title>structs</title>\n",
       "<polygon fill=\"white\" stroke=\"white\" points=\"-4,5 -4,-40 103,-40 103,5 -4,5\"/>\n",
       "<!-- struct1 -->\n",
       "<g id=\"node1\" class=\"node\"><title>struct1</title>\n",
       "<polygon fill=\"none\" stroke=\"black\" points=\"8,-7 8,-28 36,-28 36,-7 8,-7\"/>\n",
       "<text text-anchor=\"start\" x=\"11.5\" y=\"-11.5\" font-family=\"Times,serif\" font-size=\"14.00\">638</text>\n",
       "<polygon fill=\"none\" stroke=\"black\" points=\"36,-7 36,-28 63,-28 63,-7 36,-7\"/>\n",
       "<text text-anchor=\"start\" x=\"39\" y=\"-11.5\" font-family=\"Times,serif\" font-size=\"14.00\">388</text>\n",
       "<polygon fill=\"none\" stroke=\"black\" points=\"63,-7 63,-28 90,-28 90,-7 63,-7\"/>\n",
       "<text text-anchor=\"start\" x=\"66\" y=\"-11.5\" font-family=\"Times,serif\" font-size=\"14.00\">558</text>\n",
       "</g>\n",
       "</g>\n",
       "</svg>\n"
      ],
      "text/plain": [
       "<graphviz.dot.Digraph at 0x107511f98>"
      ]
     },
     "metadata": {},
     "output_type": "display_data"
    },
    {
     "data": {
      "image/svg+xml": [
       "<?xml version=\"1.0\" encoding=\"UTF-8\" standalone=\"no\"?>\n",
       "<!DOCTYPE svg PUBLIC \"-//W3C//DTD SVG 1.1//EN\"\n",
       " \"http://www.w3.org/Graphics/SVG/1.1/DTD/svg11.dtd\">\n",
       "<!-- Generated by graphviz version 2.28.0 (20111028.1807)\n",
       " -->\n",
       "<!-- Title: structs Pages: 1 -->\n",
       "<svg width=\"106pt\" height=\"44pt\"\n",
       " viewBox=\"0.00 0.00 106.00 44.00\" xmlns=\"http://www.w3.org/2000/svg\" xmlns:xlink=\"http://www.w3.org/1999/xlink\">\n",
       "<g id=\"graph1\" class=\"graph\" transform=\"scale(1 1) rotate(0) translate(4 40)\">\n",
       "<title>structs</title>\n",
       "<polygon fill=\"white\" stroke=\"white\" points=\"-4,5 -4,-40 103,-40 103,5 -4,5\"/>\n",
       "<!-- struct1 -->\n",
       "<g id=\"node1\" class=\"node\"><title>struct1</title>\n",
       "<polygon fill=\"none\" stroke=\"black\" points=\"8,-7 8,-28 36,-28 36,-7 8,-7\"/>\n",
       "<text text-anchor=\"start\" x=\"11.5\" y=\"-11.5\" font-family=\"Times,serif\" font-size=\"14.00\">388</text>\n",
       "<polygon fill=\"none\" stroke=\"black\" points=\"36,-7 36,-28 63,-28 63,-7 36,-7\"/>\n",
       "<text text-anchor=\"start\" x=\"39\" y=\"-11.5\" font-family=\"Times,serif\" font-size=\"14.00\">558</text>\n",
       "<polygon fill=\"none\" stroke=\"black\" points=\"63,-7 63,-28 90,-28 90,-7 63,-7\"/>\n",
       "<text text-anchor=\"start\" x=\"66\" y=\"-11.5\" font-family=\"Times,serif\" font-size=\"14.00\">638</text>\n",
       "</g>\n",
       "</g>\n",
       "</svg>\n"
      ],
      "text/plain": [
       "<graphviz.dot.Digraph at 0x107511f98>"
      ]
     },
     "metadata": {},
     "output_type": "display_data"
    },
    {
     "name": "stdout",
     "output_type": "stream",
     "text": [
      "  verify = True\n",
      "\n",
      "\n",
      "\n"
     ]
    },
    {
     "data": {
      "image/svg+xml": [
       "<?xml version=\"1.0\" encoding=\"UTF-8\" standalone=\"no\"?>\n",
       "<!DOCTYPE svg PUBLIC \"-//W3C//DTD SVG 1.1//EN\"\n",
       " \"http://www.w3.org/Graphics/SVG/1.1/DTD/svg11.dtd\">\n",
       "<!-- Generated by graphviz version 2.28.0 (20111028.1807)\n",
       " -->\n",
       "<!-- Title: structs Pages: 1 -->\n",
       "<svg width=\"132pt\" height=\"44pt\"\n",
       " viewBox=\"0.00 0.00 132.00 44.00\" xmlns=\"http://www.w3.org/2000/svg\" xmlns:xlink=\"http://www.w3.org/1999/xlink\">\n",
       "<g id=\"graph1\" class=\"graph\" transform=\"scale(1 1) rotate(0) translate(4 40)\">\n",
       "<title>structs</title>\n",
       "<polygon fill=\"white\" stroke=\"white\" points=\"-4,5 -4,-40 129,-40 129,5 -4,5\"/>\n",
       "<!-- struct1 -->\n",
       "<g id=\"node1\" class=\"node\"><title>struct1</title>\n",
       "<polygon fill=\"none\" stroke=\"black\" points=\"8,-7 8,-28 36,-28 36,-7 8,-7\"/>\n",
       "<text text-anchor=\"start\" x=\"11.5\" y=\"-11.5\" font-family=\"Times,serif\" font-size=\"14.00\">510</text>\n",
       "<polygon fill=\"none\" stroke=\"black\" points=\"36,-7 36,-28 63,-28 63,-7 36,-7\"/>\n",
       "<text text-anchor=\"start\" x=\"39\" y=\"-11.5\" font-family=\"Times,serif\" font-size=\"14.00\">544</text>\n",
       "<polygon fill=\"none\" stroke=\"black\" points=\"63,-7 63,-28 90,-28 90,-7 63,-7\"/>\n",
       "<text text-anchor=\"start\" x=\"66\" y=\"-11.5\" font-family=\"Times,serif\" font-size=\"14.00\">502</text>\n",
       "<polygon fill=\"none\" stroke=\"black\" points=\"90,-7 90,-28 116,-28 116,-7 90,-7\"/>\n",
       "<text text-anchor=\"start\" x=\"93\" y=\"-11.5\" font-family=\"Times,serif\" font-size=\"14.00\">211</text>\n",
       "</g>\n",
       "</g>\n",
       "</svg>\n"
      ],
      "text/plain": [
       "<graphviz.dot.Digraph at 0x107511898>"
      ]
     },
     "metadata": {},
     "output_type": "display_data"
    },
    {
     "data": {
      "image/svg+xml": [
       "<?xml version=\"1.0\" encoding=\"UTF-8\" standalone=\"no\"?>\n",
       "<!DOCTYPE svg PUBLIC \"-//W3C//DTD SVG 1.1//EN\"\n",
       " \"http://www.w3.org/Graphics/SVG/1.1/DTD/svg11.dtd\">\n",
       "<!-- Generated by graphviz version 2.28.0 (20111028.1807)\n",
       " -->\n",
       "<!-- Title: structs Pages: 1 -->\n",
       "<svg width=\"132pt\" height=\"44pt\"\n",
       " viewBox=\"0.00 0.00 132.00 44.00\" xmlns=\"http://www.w3.org/2000/svg\" xmlns:xlink=\"http://www.w3.org/1999/xlink\">\n",
       "<g id=\"graph1\" class=\"graph\" transform=\"scale(1 1) rotate(0) translate(4 40)\">\n",
       "<title>structs</title>\n",
       "<polygon fill=\"white\" stroke=\"white\" points=\"-4,5 -4,-40 129,-40 129,5 -4,5\"/>\n",
       "<!-- struct1 -->\n",
       "<g id=\"node1\" class=\"node\"><title>struct1</title>\n",
       "<polygon fill=\"none\" stroke=\"black\" points=\"8,-7 8,-28 35,-28 35,-7 8,-7\"/>\n",
       "<text text-anchor=\"start\" x=\"11.5\" y=\"-11.5\" font-family=\"Times,serif\" font-size=\"14.00\">211</text>\n",
       "<polygon fill=\"none\" stroke=\"black\" points=\"35,-7 35,-28 62,-28 62,-7 35,-7\"/>\n",
       "<text text-anchor=\"start\" x=\"38\" y=\"-11.5\" font-family=\"Times,serif\" font-size=\"14.00\">502</text>\n",
       "<polygon fill=\"none\" stroke=\"black\" points=\"62,-7 62,-28 89,-28 89,-7 62,-7\"/>\n",
       "<text text-anchor=\"start\" x=\"65\" y=\"-11.5\" font-family=\"Times,serif\" font-size=\"14.00\">510</text>\n",
       "<polygon fill=\"none\" stroke=\"black\" points=\"89,-7 89,-28 116,-28 116,-7 89,-7\"/>\n",
       "<text text-anchor=\"start\" x=\"92\" y=\"-11.5\" font-family=\"Times,serif\" font-size=\"14.00\">544</text>\n",
       "</g>\n",
       "</g>\n",
       "</svg>\n"
      ],
      "text/plain": [
       "<graphviz.dot.Digraph at 0x107511898>"
      ]
     },
     "metadata": {},
     "output_type": "display_data"
    },
    {
     "name": "stdout",
     "output_type": "stream",
     "text": [
      "  verify = True\n",
      "\n",
      "\n",
      "\n"
     ]
    },
    {
     "data": {
      "image/svg+xml": [
       "<?xml version=\"1.0\" encoding=\"UTF-8\" standalone=\"no\"?>\n",
       "<!DOCTYPE svg PUBLIC \"-//W3C//DTD SVG 1.1//EN\"\n",
       " \"http://www.w3.org/Graphics/SVG/1.1/DTD/svg11.dtd\">\n",
       "<!-- Generated by graphviz version 2.28.0 (20111028.1807)\n",
       " -->\n",
       "<!-- Title: structs Pages: 1 -->\n",
       "<svg width=\"152pt\" height=\"44pt\"\n",
       " viewBox=\"0.00 0.00 152.00 44.00\" xmlns=\"http://www.w3.org/2000/svg\" xmlns:xlink=\"http://www.w3.org/1999/xlink\">\n",
       "<g id=\"graph1\" class=\"graph\" transform=\"scale(1 1) rotate(0) translate(4 40)\">\n",
       "<title>structs</title>\n",
       "<polygon fill=\"white\" stroke=\"white\" points=\"-4,5 -4,-40 149,-40 149,5 -4,5\"/>\n",
       "<!-- struct1 -->\n",
       "<g id=\"node1\" class=\"node\"><title>struct1</title>\n",
       "<polygon fill=\"none\" stroke=\"black\" points=\"8,-7 8,-28 36,-28 36,-7 8,-7\"/>\n",
       "<text text-anchor=\"start\" x=\"11.5\" y=\"-11.5\" font-family=\"Times,serif\" font-size=\"14.00\">243</text>\n",
       "<polygon fill=\"none\" stroke=\"black\" points=\"36,-7 36,-28 56,-28 56,-7 36,-7\"/>\n",
       "<text text-anchor=\"start\" x=\"39\" y=\"-11.5\" font-family=\"Times,serif\" font-size=\"14.00\">59</text>\n",
       "<polygon fill=\"none\" stroke=\"black\" points=\"56,-7 56,-28 83,-28 83,-7 56,-7\"/>\n",
       "<text text-anchor=\"start\" x=\"59\" y=\"-11.5\" font-family=\"Times,serif\" font-size=\"14.00\">485</text>\n",
       "<polygon fill=\"none\" stroke=\"black\" points=\"83,-7 83,-28 110,-28 110,-7 83,-7\"/>\n",
       "<text text-anchor=\"start\" x=\"86\" y=\"-11.5\" font-family=\"Times,serif\" font-size=\"14.00\">797</text>\n",
       "<polygon fill=\"none\" stroke=\"black\" points=\"110,-7 110,-28 137,-28 137,-7 110,-7\"/>\n",
       "<text text-anchor=\"start\" x=\"113\" y=\"-11.5\" font-family=\"Times,serif\" font-size=\"14.00\">684</text>\n",
       "</g>\n",
       "</g>\n",
       "</svg>\n"
      ],
      "text/plain": [
       "<graphviz.dot.Digraph at 0x107511fd0>"
      ]
     },
     "metadata": {},
     "output_type": "display_data"
    },
    {
     "ename": "IndexError",
     "evalue": "list index out of range",
     "output_type": "error",
     "traceback": [
      "\u001b[0;31m---------------------------------------------------------------------------\u001b[0m",
      "\u001b[0;31mIndexError\u001b[0m                                Traceback (most recent call last)",
      "\u001b[0;32m<ipython-input-24-b691c3437a6c>\u001b[0m in \u001b[0;36m<module>\u001b[0;34m()\u001b[0m\n\u001b[0;32m----> 1\u001b[0;31m \u001b[0mMedianSortOfFour\u001b[0m\u001b[0;34m(\u001b[0m\u001b[0;34m)\u001b[0m\u001b[0;34m.\u001b[0m\u001b[0mverify\u001b[0m\u001b[0;34m(\u001b[0m\u001b[0;34m)\u001b[0m\u001b[0;34m\u001b[0m\u001b[0m\n\u001b[0m",
      "\u001b[0;32m~/learning/algorithms/sort/common.py\u001b[0m in \u001b[0;36mverify\u001b[0;34m(self, num)\u001b[0m\n\u001b[1;32m     76\u001b[0m             \u001b[0mdraw_array\u001b[0m\u001b[0;34m(\u001b[0m\u001b[0mdata\u001b[0m\u001b[0;34m)\u001b[0m\u001b[0;34m\u001b[0m\u001b[0m\n\u001b[1;32m     77\u001b[0m \u001b[0;34m\u001b[0m\u001b[0m\n\u001b[0;32m---> 78\u001b[0;31m             \u001b[0mself\u001b[0m\u001b[0;34m.\u001b[0m\u001b[0msort\u001b[0m\u001b[0;34m(\u001b[0m\u001b[0mdata\u001b[0m\u001b[0;34m)\u001b[0m\u001b[0;34m\u001b[0m\u001b[0m\n\u001b[0m\u001b[1;32m     79\u001b[0m             \u001b[0mdraw_array\u001b[0m\u001b[0;34m(\u001b[0m\u001b[0mdata\u001b[0m\u001b[0;34m)\u001b[0m\u001b[0;34m\u001b[0m\u001b[0m\n\u001b[1;32m     80\u001b[0m \u001b[0;34m\u001b[0m\u001b[0m\n",
      "\u001b[0;32m~/learning/algorithms/sort/common.py\u001b[0m in \u001b[0;36msort\u001b[0;34m(self, A, start, end)\u001b[0m\n\u001b[1;32m     69\u001b[0m             \u001b[0mself\u001b[0m\u001b[0;34m.\u001b[0m\u001b[0minit\u001b[0m\u001b[0;34m(\u001b[0m\u001b[0mA\u001b[0m\u001b[0;34m,\u001b[0m \u001b[0;36m0\u001b[0m\u001b[0;34m,\u001b[0m \u001b[0mlen\u001b[0m\u001b[0;34m(\u001b[0m\u001b[0mA\u001b[0m\u001b[0;34m)\u001b[0m \u001b[0;34m-\u001b[0m \u001b[0;36m1\u001b[0m\u001b[0;34m)\u001b[0m\u001b[0;34m\u001b[0m\u001b[0m\n\u001b[1;32m     70\u001b[0m \u001b[0;34m\u001b[0m\u001b[0m\n\u001b[0;32m---> 71\u001b[0;31m         \u001b[0;32mreturn\u001b[0m \u001b[0mself\u001b[0m\u001b[0;34m.\u001b[0m\u001b[0m_sort\u001b[0m\u001b[0;34m(\u001b[0m\u001b[0;34m)\u001b[0m\u001b[0;34m\u001b[0m\u001b[0m\n\u001b[0m\u001b[1;32m     72\u001b[0m \u001b[0;34m\u001b[0m\u001b[0m\n\u001b[1;32m     73\u001b[0m     \u001b[0;32mdef\u001b[0m \u001b[0mverify\u001b[0m\u001b[0;34m(\u001b[0m\u001b[0mself\u001b[0m\u001b[0;34m,\u001b[0m \u001b[0mnum\u001b[0m \u001b[0;34m=\u001b[0m \u001b[0;36m10\u001b[0m\u001b[0;34m)\u001b[0m\u001b[0;34m:\u001b[0m\u001b[0;34m\u001b[0m\u001b[0m\n",
      "\u001b[0;32m<ipython-input-23-96f0e0400db0>\u001b[0m in \u001b[0;36m_sort\u001b[0;34m(self)\u001b[0m\n\u001b[1;32m    124\u001b[0m \u001b[0;34m\u001b[0m\u001b[0m\n\u001b[1;32m    125\u001b[0m     \u001b[0;32mdef\u001b[0m \u001b[0m_sort\u001b[0m\u001b[0;34m(\u001b[0m\u001b[0mself\u001b[0m\u001b[0;34m)\u001b[0m\u001b[0;34m:\u001b[0m\u001b[0;34m\u001b[0m\u001b[0m\n\u001b[0;32m--> 126\u001b[0;31m         \u001b[0mself\u001b[0m\u001b[0;34m.\u001b[0m\u001b[0mmedianSort\u001b[0m\u001b[0;34m(\u001b[0m\u001b[0mself\u001b[0m\u001b[0;34m.\u001b[0m\u001b[0mstart\u001b[0m\u001b[0;34m,\u001b[0m \u001b[0mself\u001b[0m\u001b[0;34m.\u001b[0m\u001b[0mend\u001b[0m\u001b[0;34m)\u001b[0m\u001b[0;34m\u001b[0m\u001b[0m\n\u001b[0m\u001b[1;32m    127\u001b[0m         \u001b[0;32mreturn\u001b[0m \u001b[0mself\u001b[0m\u001b[0;34m.\u001b[0m\u001b[0mA\u001b[0m\u001b[0;34m\u001b[0m\u001b[0m\n\u001b[1;32m    128\u001b[0m \u001b[0;34m\u001b[0m\u001b[0m\n",
      "\u001b[0;32m<ipython-input-23-96f0e0400db0>\u001b[0m in \u001b[0;36mmedianSort\u001b[0;34m(self, lo, hi)\u001b[0m\n\u001b[1;32m    121\u001b[0m         \u001b[0mmid\u001b[0m \u001b[0;34m=\u001b[0m \u001b[0mself\u001b[0m\u001b[0;34m.\u001b[0m\u001b[0mselectMedian\u001b[0m\u001b[0;34m(\u001b[0m\u001b[0mlo\u001b[0m\u001b[0;34m,\u001b[0m \u001b[0mhi\u001b[0m\u001b[0;34m)\u001b[0m\u001b[0;34m\u001b[0m\u001b[0m\n\u001b[1;32m    122\u001b[0m         \u001b[0mself\u001b[0m\u001b[0;34m.\u001b[0m\u001b[0mmedianSort\u001b[0m\u001b[0;34m(\u001b[0m\u001b[0mlo\u001b[0m\u001b[0;34m,\u001b[0m \u001b[0mlo\u001b[0m \u001b[0;34m+\u001b[0m \u001b[0mmid\u001b[0m \u001b[0;34m-\u001b[0m \u001b[0;36m1\u001b[0m\u001b[0;34m)\u001b[0m\u001b[0;34m\u001b[0m\u001b[0m\n\u001b[0;32m--> 123\u001b[0;31m         \u001b[0mself\u001b[0m\u001b[0;34m.\u001b[0m\u001b[0mmedianSort\u001b[0m\u001b[0;34m(\u001b[0m\u001b[0mlo\u001b[0m \u001b[0;34m+\u001b[0m \u001b[0mmid\u001b[0m \u001b[0;34m+\u001b[0m \u001b[0;36m1\u001b[0m\u001b[0;34m,\u001b[0m \u001b[0mhi\u001b[0m\u001b[0;34m)\u001b[0m\u001b[0;34m\u001b[0m\u001b[0m\n\u001b[0m\u001b[1;32m    124\u001b[0m \u001b[0;34m\u001b[0m\u001b[0m\n\u001b[1;32m    125\u001b[0m     \u001b[0;32mdef\u001b[0m \u001b[0m_sort\u001b[0m\u001b[0;34m(\u001b[0m\u001b[0mself\u001b[0m\u001b[0;34m)\u001b[0m\u001b[0;34m:\u001b[0m\u001b[0;34m\u001b[0m\u001b[0m\n",
      "\u001b[0;32m<ipython-input-23-96f0e0400db0>\u001b[0m in \u001b[0;36mmedianSort\u001b[0;34m(self, lo, hi)\u001b[0m\n\u001b[1;32m    120\u001b[0m \u001b[0;34m\u001b[0m\u001b[0m\n\u001b[1;32m    121\u001b[0m         \u001b[0mmid\u001b[0m \u001b[0;34m=\u001b[0m \u001b[0mself\u001b[0m\u001b[0;34m.\u001b[0m\u001b[0mselectMedian\u001b[0m\u001b[0;34m(\u001b[0m\u001b[0mlo\u001b[0m\u001b[0;34m,\u001b[0m \u001b[0mhi\u001b[0m\u001b[0;34m)\u001b[0m\u001b[0;34m\u001b[0m\u001b[0m\n\u001b[0;32m--> 122\u001b[0;31m         \u001b[0mself\u001b[0m\u001b[0;34m.\u001b[0m\u001b[0mmedianSort\u001b[0m\u001b[0;34m(\u001b[0m\u001b[0mlo\u001b[0m\u001b[0;34m,\u001b[0m \u001b[0mlo\u001b[0m \u001b[0;34m+\u001b[0m \u001b[0mmid\u001b[0m \u001b[0;34m-\u001b[0m \u001b[0;36m1\u001b[0m\u001b[0;34m)\u001b[0m\u001b[0;34m\u001b[0m\u001b[0m\n\u001b[0m\u001b[1;32m    123\u001b[0m         \u001b[0mself\u001b[0m\u001b[0;34m.\u001b[0m\u001b[0mmedianSort\u001b[0m\u001b[0;34m(\u001b[0m\u001b[0mlo\u001b[0m \u001b[0;34m+\u001b[0m \u001b[0mmid\u001b[0m \u001b[0;34m+\u001b[0m \u001b[0;36m1\u001b[0m\u001b[0;34m,\u001b[0m \u001b[0mhi\u001b[0m\u001b[0;34m)\u001b[0m\u001b[0;34m\u001b[0m\u001b[0m\n\u001b[1;32m    124\u001b[0m \u001b[0;34m\u001b[0m\u001b[0m\n",
      "\u001b[0;32m<ipython-input-23-96f0e0400db0>\u001b[0m in \u001b[0;36mmedianSort\u001b[0;34m(self, lo, hi)\u001b[0m\n\u001b[1;32m    119\u001b[0m             \u001b[0;32mreturn\u001b[0m\u001b[0;34m\u001b[0m\u001b[0m\n\u001b[1;32m    120\u001b[0m \u001b[0;34m\u001b[0m\u001b[0m\n\u001b[0;32m--> 121\u001b[0;31m         \u001b[0mmid\u001b[0m \u001b[0;34m=\u001b[0m \u001b[0mself\u001b[0m\u001b[0;34m.\u001b[0m\u001b[0mselectMedian\u001b[0m\u001b[0;34m(\u001b[0m\u001b[0mlo\u001b[0m\u001b[0;34m,\u001b[0m \u001b[0mhi\u001b[0m\u001b[0;34m)\u001b[0m\u001b[0;34m\u001b[0m\u001b[0m\n\u001b[0m\u001b[1;32m    122\u001b[0m         \u001b[0mself\u001b[0m\u001b[0;34m.\u001b[0m\u001b[0mmedianSort\u001b[0m\u001b[0;34m(\u001b[0m\u001b[0mlo\u001b[0m\u001b[0;34m,\u001b[0m \u001b[0mlo\u001b[0m \u001b[0;34m+\u001b[0m \u001b[0mmid\u001b[0m \u001b[0;34m-\u001b[0m \u001b[0;36m1\u001b[0m\u001b[0;34m)\u001b[0m\u001b[0;34m\u001b[0m\u001b[0m\n\u001b[1;32m    123\u001b[0m         \u001b[0mself\u001b[0m\u001b[0;34m.\u001b[0m\u001b[0mmedianSort\u001b[0m\u001b[0;34m(\u001b[0m\u001b[0mlo\u001b[0m \u001b[0;34m+\u001b[0m \u001b[0mmid\u001b[0m \u001b[0;34m+\u001b[0m \u001b[0;36m1\u001b[0m\u001b[0;34m,\u001b[0m \u001b[0mhi\u001b[0m\u001b[0;34m)\u001b[0m\u001b[0;34m\u001b[0m\u001b[0m\n",
      "\u001b[0;32m<ipython-input-23-96f0e0400db0>\u001b[0m in \u001b[0;36mselectMedian\u001b[0;34m(self, left, right)\u001b[0m\n\u001b[1;32m    101\u001b[0m         \u001b[0;32mwhile\u001b[0m \u001b[0mk\u001b[0m \u001b[0;34m>\u001b[0m \u001b[0;36m0\u001b[0m\u001b[0;34m:\u001b[0m\u001b[0;34m\u001b[0m\u001b[0m\n\u001b[1;32m    102\u001b[0m             \u001b[0midx\u001b[0m \u001b[0;34m=\u001b[0m \u001b[0mself\u001b[0m\u001b[0;34m.\u001b[0m\u001b[0mmedianOfMedians\u001b[0m\u001b[0;34m(\u001b[0m\u001b[0mleft\u001b[0m\u001b[0;34m,\u001b[0m \u001b[0mright\u001b[0m\u001b[0;34m,\u001b[0m \u001b[0;36m1\u001b[0m\u001b[0;34m)\u001b[0m\u001b[0;34m\u001b[0m\u001b[0m\n\u001b[0;32m--> 103\u001b[0;31m             \u001b[0mpivotIndex\u001b[0m \u001b[0;34m=\u001b[0m \u001b[0mself\u001b[0m\u001b[0;34m.\u001b[0m\u001b[0mpartition\u001b[0m\u001b[0;34m(\u001b[0m\u001b[0mleft\u001b[0m\u001b[0;34m,\u001b[0m \u001b[0mright\u001b[0m\u001b[0;34m,\u001b[0m \u001b[0midx\u001b[0m\u001b[0;34m)\u001b[0m\u001b[0;34m\u001b[0m\u001b[0m\n\u001b[0m\u001b[1;32m    104\u001b[0m \u001b[0;34m\u001b[0m\u001b[0m\n\u001b[1;32m    105\u001b[0m             \u001b[0mp\u001b[0m \u001b[0;34m=\u001b[0m \u001b[0mleft\u001b[0m \u001b[0;34m+\u001b[0m \u001b[0mk\u001b[0m\u001b[0;34m\u001b[0m\u001b[0m\n",
      "\u001b[0;32m<ipython-input-23-96f0e0400db0>\u001b[0m in \u001b[0;36mpartition\u001b[0;34m(self, lo, hi, pivotIndex)\u001b[0m\n\u001b[1;32m     83\u001b[0m     \u001b[0;32mdef\u001b[0m \u001b[0mpartition\u001b[0m\u001b[0;34m(\u001b[0m\u001b[0mself\u001b[0m\u001b[0;34m,\u001b[0m \u001b[0mlo\u001b[0m\u001b[0;34m,\u001b[0m \u001b[0mhi\u001b[0m\u001b[0;34m,\u001b[0m \u001b[0mpivotIndex\u001b[0m\u001b[0;34m)\u001b[0m\u001b[0;34m:\u001b[0m\u001b[0;34m\u001b[0m\u001b[0m\n\u001b[1;32m     84\u001b[0m         \u001b[0mA\u001b[0m \u001b[0;34m=\u001b[0m \u001b[0mself\u001b[0m\u001b[0;34m.\u001b[0m\u001b[0mA\u001b[0m\u001b[0;34m\u001b[0m\u001b[0m\n\u001b[0;32m---> 85\u001b[0;31m         \u001b[0mpivot\u001b[0m \u001b[0;34m=\u001b[0m \u001b[0mA\u001b[0m\u001b[0;34m[\u001b[0m\u001b[0mpivotIndex\u001b[0m\u001b[0;34m]\u001b[0m\u001b[0;34m\u001b[0m\u001b[0m\n\u001b[0m\u001b[1;32m     86\u001b[0m \u001b[0;34m\u001b[0m\u001b[0m\n\u001b[1;32m     87\u001b[0m         \u001b[0mA\u001b[0m\u001b[0;34m[\u001b[0m\u001b[0mhi\u001b[0m\u001b[0;34m]\u001b[0m\u001b[0;34m,\u001b[0m \u001b[0mA\u001b[0m\u001b[0;34m[\u001b[0m\u001b[0mpivotIndex\u001b[0m\u001b[0;34m]\u001b[0m \u001b[0;34m=\u001b[0m \u001b[0mA\u001b[0m\u001b[0;34m[\u001b[0m\u001b[0mpivotIndex\u001b[0m\u001b[0;34m]\u001b[0m\u001b[0;34m,\u001b[0m \u001b[0mA\u001b[0m\u001b[0;34m[\u001b[0m\u001b[0mhi\u001b[0m\u001b[0;34m]\u001b[0m\u001b[0;34m\u001b[0m\u001b[0m\n",
      "\u001b[0;31mIndexError\u001b[0m: list index out of range"
     ]
    }
   ],
   "source": [
    "MedianSortOfFour().verify()"
   ]
  }
 ],
 "metadata": {
  "kernelspec": {
   "display_name": "Python 3",
   "language": "python",
   "name": "python3"
  },
  "language_info": {
   "codemirror_mode": {
    "name": "ipython",
    "version": 3
   },
   "file_extension": ".py",
   "mimetype": "text/x-python",
   "name": "python",
   "nbconvert_exporter": "python",
   "pygments_lexer": "ipython3",
   "version": "3.6.2"
  }
 },
 "nbformat": 4,
 "nbformat_minor": 2
}
