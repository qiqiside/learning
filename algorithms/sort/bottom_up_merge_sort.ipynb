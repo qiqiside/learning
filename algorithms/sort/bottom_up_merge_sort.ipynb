{
 "cells": [
  {
   "cell_type": "code",
   "execution_count": 19,
   "metadata": {
    "collapsed": true
   },
   "outputs": [],
   "source": [
    "import sys\n",
    "sys.path.append('../lib')\n",
    "\n",
    "from common import *"
   ]
  },
  {
   "cell_type": "code",
   "execution_count": 20,
   "metadata": {
    "collapsed": true
   },
   "outputs": [],
   "source": [
    "class BottomUpMergeSort:\n",
    "    \n",
    "    def __init__(self, A):\n",
    "        self.A = A\n",
    "        self.aux = [ None for x in range(len(A))]\n",
    "    \n",
    "    def merge(self, lo, mid, hi):\n",
    "        # merge A[lo..mid] and A[mid+1..hi]\n",
    "        A = self.A\n",
    "        aux = self.aux\n",
    "        \n",
    "        for k in range(lo, hi + 1):\n",
    "            aux[k] = A[k]\n",
    "        \n",
    "        i = lo\n",
    "        j = mid + 1\n",
    "        \n",
    "        for k in range(lo, hi + 1):\n",
    "            if i > mid:\n",
    "                A[k] = aux[j]\n",
    "                j += 1\n",
    "            elif j > hi:\n",
    "                A[k] = aux[i]\n",
    "                i += 1\n",
    "            elif aux[j] < aux[i]:\n",
    "                A[k] = aux[j]\n",
    "                j += 1\n",
    "            else:\n",
    "                A[k] = aux[i]\n",
    "                i += 1\n",
    "        \n",
    "    def mergeSort(self, lo, hi):\n",
    "        if hi <= lo:\n",
    "            return\n",
    "        \n",
    "        mid = (lo + hi) // 2\n",
    "        \n",
    "        self.mergeSort(lo, mid)\n",
    "        self.mergeSort(mid + 1, hi)\n",
    "        self.merge(lo, mid, hi)\n",
    "    \n",
    "    def sort(self):\n",
    "        A = self.A\n",
    "        N = len(A)\n",
    "        \n",
    "        sz = 1\n",
    "        while sz < N:            \n",
    "            for lo in range(0, N - sz, sz + sz):\n",
    "                self.merge(lo, lo + sz - 1, min(lo + sz + sz - 1, N - 1))\n",
    "            \n",
    "            sz *= 2\n",
    "            \n",
    "        return self.A"
   ]
  },
  {
   "cell_type": "code",
   "execution_count": 21,
   "metadata": {},
   "outputs": [
    {
     "name": "stdout",
     "output_type": "stream",
     "text": [
      "original data = [977, 277, 724, 48, 622, 721, 814, 221, 246, 637]\n",
      "sorted   data = [48, 221, 246, 277, 622, 637, 721, 724, 814, 977]\n",
      "verify   data = True\n"
     ]
    }
   ],
   "source": [
    "data = gen_data(10)\n",
    "print('original data =', data)\n",
    "\n",
    "buMergeSort = BottomUpMergeSort(data)\n",
    "\n",
    "print('sorted   data =', buMergeSort.sort())\n",
    "\n",
    "print('verify   data =', verify_sorted(data))"
   ]
  }
 ],
 "metadata": {
  "kernelspec": {
   "display_name": "Python 3",
   "language": "python",
   "name": "python3"
  },
  "language_info": {
   "codemirror_mode": {
    "name": "ipython",
    "version": 3
   },
   "file_extension": ".py",
   "mimetype": "text/x-python",
   "name": "python",
   "nbconvert_exporter": "python",
   "pygments_lexer": "ipython3",
   "version": "3.6.2"
  }
 },
 "nbformat": 4,
 "nbformat_minor": 2
}
