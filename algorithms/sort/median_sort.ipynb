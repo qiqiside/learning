{
 "cells": [
  {
   "cell_type": "code",
   "execution_count": null,
   "metadata": {
    "collapsed": true
   },
   "outputs": [],
   "source": [
    "import sys\n",
    "sys.path.append('../lib')\n",
    "from common import *\n",
    "from graph import *"
   ]
  },
  {
   "cell_type": "code",
   "execution_count": null,
   "metadata": {
    "collapsed": true
   },
   "outputs": [],
   "source": [
    "class MedianSort:\n",
    "    \n",
    "    def __init__(self, A):\n",
    "        self.A = A\n",
    "    \n",
    "    def medianSort(self, left, right):\n",
    "        A = self.A\n",
    "        \n",
    "        if left < right:\n",
    "            # find median value A[me] in a[left, right]\n",
    "            mid = (left + right) // 2\n",
    "            A[mid], A[me] = A[me], A[mid]\n",
    "            \n",
    "            for i in range(left, mid):\n",
    "                if A[i] > A[mid]:\n",
    "                    # find A[k] <= A[mid] where k > mid\n",
    "                    A[i], A[k] = A[k], A[i]\n",
    "            \n",
    "            self.medianSort(left, mid - 1)\n",
    "            self.medianSort(mid + 1, right)\n",
    "    \n",
    "    def sort(self):\n",
    "        return self.medianSort(0, len(self.A) - 1)\n"
   ]
  }
 ],
 "metadata": {
  "kernelspec": {
   "display_name": "Python 3",
   "language": "python",
   "name": "python3"
  },
  "language_info": {
   "codemirror_mode": {
    "name": "ipython",
    "version": 3
   },
   "file_extension": ".py",
   "mimetype": "text/x-python",
   "name": "python",
   "nbconvert_exporter": "python",
   "pygments_lexer": "ipython3",
   "version": "3.6.2"
  }
 },
 "nbformat": 4,
 "nbformat_minor": 2
}
