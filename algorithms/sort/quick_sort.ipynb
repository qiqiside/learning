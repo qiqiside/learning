{
 "cells": [
  {
   "cell_type": "code",
   "execution_count": 100,
   "metadata": {
    "collapsed": true
   },
   "outputs": [],
   "source": [
    "import sys\n",
    "sys.path.append('../lib')\n",
    "\n",
    "from common import *"
   ]
  },
  {
   "cell_type": "code",
   "execution_count": 101,
   "metadata": {
    "collapsed": true
   },
   "outputs": [],
   "source": [
    "class QuickSort:\n",
    "    \n",
    "    def __init__(self, data):\n",
    "        self.A = data\n",
    "    \n",
    "    def quicksort(self, p, r):\n",
    "        if p < r and p >= 0 and r < len(self.A):\n",
    "            q = self.partition(p, r)\n",
    "            self.quicksort(p, q - 1)\n",
    "            self.quicksort(q + 1, r)\n",
    "        \n",
    "    def partition(self, p, r):\n",
    "        A = self.A\n",
    "        v = A[p]\n",
    "        \n",
    "        i = p + 1\n",
    "        j = r\n",
    "        while True:\n",
    "            while A[i] < v:\n",
    "                if i == r:\n",
    "                    break\n",
    "                i += 1\n",
    "            \n",
    "            while v < A[j]:\n",
    "                if j == p:\n",
    "                    break\n",
    "                j -= 1\n",
    "        \n",
    "            if i >= j:\n",
    "                break\n",
    "                \n",
    "            A[i], A[j] = A[j], A[i]\n",
    "            \n",
    "        A[p], A[j] = A[j], A[p]\n",
    "        return j\n",
    "    \n",
    "    def sort(self):\n",
    "        self.quicksort(0, len(self.A) - 1)        \n",
    "        return self.A\n",
    "    "
   ]
  },
  {
   "cell_type": "code",
   "execution_count": 102,
   "metadata": {},
   "outputs": [
    {
     "name": "stdout",
     "output_type": "stream",
     "text": [
      "original data = [466, 141, 496, 383, 584, 475, 342, 893, 628, 431]\n",
      "sorted   data = [141, 342, 383, 431, 466, 475, 496, 584, 628, 893]\n",
      "verify   data = True\n"
     ]
    }
   ],
   "source": [
    "data = gen_data(10)\n",
    "print('original data =', data)\n",
    "\n",
    "quickSort = QuickSort(data)\n",
    "\n",
    "print('sorted   data =', quickSort.sort())\n",
    "\n",
    "print('verify   data =', verify_sorted(data))"
   ]
  }
 ],
 "metadata": {
  "kernelspec": {
   "display_name": "Python 3",
   "language": "python",
   "name": "python3"
  },
  "language_info": {
   "codemirror_mode": {
    "name": "ipython",
    "version": 3
   },
   "file_extension": ".py",
   "mimetype": "text/x-python",
   "name": "python",
   "nbconvert_exporter": "python",
   "pygments_lexer": "ipython3",
   "version": "3.6.2"
  }
 },
 "nbformat": 4,
 "nbformat_minor": 2
}
