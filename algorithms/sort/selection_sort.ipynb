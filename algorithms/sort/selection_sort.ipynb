{
 "cells": [
  {
   "cell_type": "code",
   "execution_count": 29,
   "metadata": {
    "collapsed": true
   },
   "outputs": [],
   "source": [
    "import sys\n",
    "sys.path.append('../lib')\n",
    "from common import *"
   ]
  },
  {
   "cell_type": "code",
   "execution_count": 30,
   "metadata": {
    "collapsed": true
   },
   "outputs": [],
   "source": [
    "class SelectionSort:\n",
    "    \n",
    "    def __init__(self, A):\n",
    "        self.A = A\n",
    "    \n",
    "    def sort(self):\n",
    "        A = self.A\n",
    "        N = len(A)\n",
    "        \n",
    "        for i in range(N):\n",
    "            MIN = A[i]\n",
    "            \n",
    "            for j in range(i + 1, N):\n",
    "                if A[j] < MIN:\n",
    "                    MIN, A[j] = A[j], MIN\n",
    "            \n",
    "            A[i] = MIN\n"
   ]
  },
  {
   "cell_type": "code",
   "execution_count": 31,
   "metadata": {},
   "outputs": [
    {
     "data": {
      "text/plain": [
       "[402, 33, 316, 29, 698, 329, 417, 503, 90, 842]"
      ]
     },
     "execution_count": 31,
     "metadata": {},
     "output_type": "execute_result"
    }
   ],
   "source": [
    "n = 10\n",
    "data = gen_data(10)\n",
    "data"
   ]
  },
  {
   "cell_type": "code",
   "execution_count": 32,
   "metadata": {},
   "outputs": [
    {
     "data": {
      "text/plain": [
       "[29, 33, 90, 316, 329, 402, 417, 503, 698, 842]"
      ]
     },
     "execution_count": 32,
     "metadata": {},
     "output_type": "execute_result"
    }
   ],
   "source": [
    "selectionSort = SelectionSort(data)\n",
    "selectionSort.sort()\n",
    "\n",
    "data"
   ]
  }
 ],
 "metadata": {
  "kernelspec": {
   "display_name": "Python 3",
   "language": "python",
   "name": "python3"
  },
  "language_info": {
   "codemirror_mode": {
    "name": "ipython",
    "version": 3
   },
   "file_extension": ".py",
   "mimetype": "text/x-python",
   "name": "python",
   "nbconvert_exporter": "python",
   "pygments_lexer": "ipython3",
   "version": "3.6.2"
  }
 },
 "nbformat": 4,
 "nbformat_minor": 2
}
