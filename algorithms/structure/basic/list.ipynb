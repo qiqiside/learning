{
 "cells": [
  {
   "cell_type": "code",
   "execution_count": 1,
   "metadata": {
    "collapsed": true
   },
   "outputs": [],
   "source": [
    "class Element:\n",
    "    \n",
    "    def __init__(self, k):\n",
    "        self.key = k\n",
    "        self.prev = self.next = None\n",
    "    \n",
    "    def __str__(self):\n",
    "        return str(self.key)\n",
    "    "
   ]
  },
  {
   "cell_type": "code",
   "execution_count": 2,
   "metadata": {
    "collapsed": true
   },
   "outputs": [],
   "source": [
    "class List:\n",
    "    \n",
    "    def __init__(self):\n",
    "        self.head = None\n",
    "    \n",
    "    def search(self, k):\n",
    "        x = self.head\n",
    "        while x != None and x.key != k:\n",
    "            x = x.next\n",
    "        return x\n",
    "    \n",
    "    def insert(self, x):\n",
    "        x.prev = None\n",
    "        x.next = self.head\n",
    "        \n",
    "        if self.head != None:\n",
    "            self.head.prev = x\n",
    "        self.head = x\n",
    "    \n",
    "    def remove(self, x):\n",
    "        if x.prev != None:\n",
    "            x.prev.next = x.next\n",
    "        else:\n",
    "            self.head = x.next\n",
    "        \n",
    "        if x.next != None:\n",
    "            x.next.prev = x.prev\n",
    "        "
   ]
  },
  {
   "cell_type": "code",
   "execution_count": 3,
   "metadata": {},
   "outputs": [
    {
     "name": "stdout",
     "output_type": "stream",
     "text": [
      "search(12): None\n",
      "insert: 12\n",
      "search(12): 12\n",
      "remove: 12\n",
      "head: None\n"
     ]
    }
   ],
   "source": [
    "L = List()\n",
    "\n",
    "k = 12\n",
    "x = L.search(k)\n",
    "print ('search({}):'.format(k), x)\n",
    "\n",
    "L.insert(Element(k))\n",
    "print ('insert:', k)\n",
    "\n",
    "k = 12\n",
    "x = L.search(k)\n",
    "print ('search({}):'.format(k), x)\n",
    "\n",
    "L.remove(x)\n",
    "print ('remove:', x)\n",
    "print ('head:', L.head)"
   ]
  }
 ],
 "metadata": {
  "kernelspec": {
   "display_name": "Python 3",
   "language": "python",
   "name": "python3"
  },
  "language_info": {
   "codemirror_mode": {
    "name": "ipython",
    "version": 3
   },
   "file_extension": ".py",
   "mimetype": "text/x-python",
   "name": "python",
   "nbconvert_exporter": "python",
   "pygments_lexer": "ipython3",
   "version": "3.6.2"
  }
 },
 "nbformat": 4,
 "nbformat_minor": 2
}
