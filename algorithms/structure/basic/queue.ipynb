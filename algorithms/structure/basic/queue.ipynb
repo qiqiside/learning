{
 "cells": [
  {
   "cell_type": "code",
   "execution_count": 1,
   "metadata": {
    "collapsed": true
   },
   "outputs": [],
   "source": [
    "import sys\n",
    "sys.path.append('../../lib')\n",
    "\n",
    "from common import *"
   ]
  },
  {
   "cell_type": "code",
   "execution_count": 2,
   "metadata": {
    "collapsed": true
   },
   "outputs": [],
   "source": [
    "class Queue:\n",
    "    \n",
    "    def __init__(self, n):\n",
    "        self.Q = [None for x in range(n)]\n",
    "        self.length = n\n",
    "        self.head = 0\n",
    "        self.tail = 0\n",
    "    \n",
    "    def enqueue(self, x):\n",
    "        if (self.tail + 1) % self.length == self.head:\n",
    "            raise Exception('overflow')\n",
    "        \n",
    "        self.Q[self.tail] = x\n",
    "        self.tail = (self.tail + 1) % self.length\n",
    "    \n",
    "    def dequeue(self):\n",
    "        if self.head == self.tail:\n",
    "            raise Exception('underflow')\n",
    "        \n",
    "        x = self.Q[self.head]\n",
    "        self.head = (self.head + 1) % self.length\n",
    "        \n",
    "        return x        \n",
    "        "
   ]
  },
  {
   "cell_type": "code",
   "execution_count": 3,
   "metadata": {},
   "outputs": [
    {
     "name": "stdout",
     "output_type": "stream",
     "text": [
      "n = 5 \n",
      "\n",
      "enqueue: 0\n",
      "enqueue: 1\n",
      "enqueue: 2\n",
      "enqueue: 3\n",
      "enqueue: 4 got exception - overflow\n",
      "\n",
      "\n",
      "dequeue: 0\n",
      "dequeue: 1\n",
      "dequeue: 2\n",
      "dequeue: 3\n",
      "dequeue: 4 got exception - underflow\n"
     ]
    }
   ],
   "source": [
    "n = 5\n",
    "q = Queue(n)\n",
    "print('n =', n, '\\n')\n",
    "\n",
    "for x in range(n):\n",
    "    try:\n",
    "        q.enqueue(x)\n",
    "        print('enqueue:', x)\n",
    "    except Exception as e:\n",
    "        print('enqueue:', x, 'got exception -', e)\n",
    "\n",
    "print('\\n')\n",
    "\n",
    "for x in range(n):\n",
    "    try:\n",
    "        x = q.dequeue()\n",
    "        print('dequeue:', x)\n",
    "    except Exception as e:\n",
    "        print('dequeue:', x, 'got exception -', e)\n",
    "        "
   ]
  }
 ],
 "metadata": {
  "kernelspec": {
   "display_name": "Python 3",
   "language": "python",
   "name": "python3"
  },
  "language_info": {
   "codemirror_mode": {
    "name": "ipython",
    "version": 3
   },
   "file_extension": ".py",
   "mimetype": "text/x-python",
   "name": "python",
   "nbconvert_exporter": "python",
   "pygments_lexer": "ipython3",
   "version": "3.6.2"
  }
 },
 "nbformat": 4,
 "nbformat_minor": 2
}
