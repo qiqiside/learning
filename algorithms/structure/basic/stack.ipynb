{
 "cells": [
  {
   "cell_type": "code",
   "execution_count": 1,
   "metadata": {
    "collapsed": true
   },
   "outputs": [],
   "source": [
    "import sys\n",
    "sys.path.append('../../lib')\n",
    "\n",
    "from common import *"
   ]
  },
  {
   "cell_type": "code",
   "execution_count": 2,
   "metadata": {
    "collapsed": true
   },
   "outputs": [],
   "source": [
    "class Stack:\n",
    "    \n",
    "    def __init__(self):\n",
    "        self.S = []\n",
    "        self.top = 0\n",
    "    \n",
    "    def empty(self):\n",
    "        return self.top == 0\n",
    "    \n",
    "    def push(self, x):\n",
    "        self.S.append(x)\n",
    "        self.top += 1\n",
    "    \n",
    "    def pop(self):\n",
    "        if self.top == 0:\n",
    "            raise Exception('underflow')\n",
    "        \n",
    "        x = self.S[self.top - 1]\n",
    "        self.top -= 1\n",
    "        \n",
    "        return x\n"
   ]
  },
  {
   "cell_type": "code",
   "execution_count": 3,
   "metadata": {},
   "outputs": [
    {
     "name": "stdout",
     "output_type": "stream",
     "text": [
      "empty: True\n",
      "push: 1\n",
      "empty: False \n",
      "\n",
      "push: 2\n",
      "empty: False \n",
      "\n",
      "pop: 2\n",
      "empty: False \n",
      "\n",
      "pop: 1\n",
      "empty: True \n",
      "\n",
      "pop: got exception - underflow\n"
     ]
    }
   ],
   "source": [
    "s = Stack()\n",
    "\n",
    "print('empty:', s.empty())\n",
    "\n",
    "x = 1\n",
    "s.push(x)\n",
    "print('push:', x)\n",
    "print('empty:', s.empty(), '\\n')\n",
    "\n",
    "x = 2\n",
    "s.push(x)\n",
    "print('push:', x)\n",
    "print('empty:', s.empty(), '\\n')\n",
    "\n",
    "x = s.pop()\n",
    "print('pop:', x)\n",
    "print('empty:', s.empty(), '\\n')\n",
    "\n",
    "x = s.pop()\n",
    "print('pop:', x)\n",
    "print('empty:', s.empty(), '\\n')\n",
    "\n",
    "try:\n",
    "    x = s.pop()\n",
    "except Exception as e:\n",
    "    print('pop:', 'got exception -', e)\n"
   ]
  }
 ],
 "metadata": {
  "kernelspec": {
   "display_name": "Python 3",
   "language": "python",
   "name": "python3"
  },
  "language_info": {
   "codemirror_mode": {
    "name": "ipython",
    "version": 3
   },
   "file_extension": ".py",
   "mimetype": "text/x-python",
   "name": "python",
   "nbconvert_exporter": "python",
   "pygments_lexer": "ipython3",
   "version": "3.6.2"
  }
 },
 "nbformat": 4,
 "nbformat_minor": 2
}
