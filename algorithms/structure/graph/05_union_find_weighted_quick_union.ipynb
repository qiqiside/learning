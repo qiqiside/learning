{
 "cells": [
  {
   "cell_type": "code",
   "execution_count": 11,
   "metadata": {
    "collapsed": true
   },
   "outputs": [],
   "source": [
    "class UF:\n",
    "    # union find\n",
    "    \n",
    "    def __init__(self, N):\n",
    "        self.N = N        \n",
    "        self.ID = list(range(N))\n",
    "        self.SIZE = [ 1 ] * N\n",
    "    \n",
    "    def union(self, p, q):\n",
    "        pid = self.find(p)\n",
    "        qid = self.find(q)\n",
    "        \n",
    "        if pid == qid:\n",
    "            return\n",
    "        \n",
    "        if self.SIZE[pid] < self.SIZE[qid]:\n",
    "            self.ID[pid] = qid       \n",
    "            self.SIZE[qid] += self.SIZE[pid]\n",
    "        else:\n",
    "            self.ID[qid] = pid       \n",
    "            self.SIZE[pid] += self.SIZE[qid]\n",
    "            \n",
    "        self.N -= 1\n",
    "\n",
    "    def find(self, p):\n",
    "        if p < 0 or p >= len(self.ID):\n",
    "            raise Exception(\"out of range\")\n",
    "        \n",
    "        while p != self.ID[p]:\n",
    "            p = self.ID[p]\n",
    "            \n",
    "        return p\n",
    "\n",
    "    def connected(self, p, q):\n",
    "        return self.find(p) == self.find(q)\n",
    "    \n",
    "    def count(self):\n",
    "        return self.N\n",
    "    \n",
    "    def __str__(self):\n",
    "        return '{\\n    N = %d\\n    ID = %s\\n}' % (self.N, str(self.ID))\n",
    "\n"
   ]
  },
  {
   "cell_type": "code",
   "execution_count": 12,
   "metadata": {},
   "outputs": [
    {
     "name": "stdout",
     "output_type": "stream",
     "text": [
      "UF = {\n",
      "    N = 4\n",
      "    ID = [0, 1, 5, 2, 4, 5, 5, 5, 5, 2]\n",
      "}\n",
      "\n",
      "find(2) = 5\n",
      "connected(2, 7) = True\n",
      "connected(1, 7) = False\n"
     ]
    }
   ],
   "source": [
    "uf = UF(10)\n",
    "uf.union(2,3)\n",
    "uf.union(2,9)\n",
    "uf.union(5,6)\n",
    "uf.union(6,7)\n",
    "uf.union(7,9)\n",
    "uf.union(8,9)\n",
    "print ('UF =', uf)\n",
    "print ()\n",
    "print ('find(%d) =' % 2, uf.find(2))\n",
    "print ('connected(%d, %d) =' % (2, 7), uf.connected(2, 7))\n",
    "print ('connected(%d, %d) =' % (1, 7), uf.connected(1, 7))"
   ]
  }
 ],
 "metadata": {
  "kernelspec": {
   "display_name": "Python 3",
   "language": "python",
   "name": "python3"
  },
  "language_info": {
   "codemirror_mode": {
    "name": "ipython",
    "version": 3
   },
   "file_extension": ".py",
   "mimetype": "text/x-python",
   "name": "python",
   "nbconvert_exporter": "python",
   "pygments_lexer": "ipython3",
   "version": "3.6.2"
  }
 },
 "nbformat": 4,
 "nbformat_minor": 2
}
