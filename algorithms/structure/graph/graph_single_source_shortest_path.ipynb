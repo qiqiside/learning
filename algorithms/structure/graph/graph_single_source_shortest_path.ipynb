{
 "cells": [
  {
   "cell_type": "code",
   "execution_count": 16,
   "metadata": {
    "collapsed": true
   },
   "outputs": [],
   "source": [
    "from common import Graph"
   ]
  },
  {
   "cell_type": "code",
   "execution_count": 17,
   "metadata": {
    "collapsed": true
   },
   "outputs": [],
   "source": [
    "class PQ:\n",
    "    \n",
    "    def __init__(self):\n",
    "        self.A = []\n",
    "        self.N = 0\n",
    "    \n",
    "    def key(self, k):\n",
    "        return self.A[k][1]\n",
    "    \n",
    "    def swim(self, k):\n",
    "        A = self.A\n",
    "\n",
    "        while k > 0:\n",
    "            p = (k - 1) // 2\n",
    "            if self.key(p) <= self.key(k):\n",
    "                break\n",
    "            \n",
    "            A[p], A[k] = A[k], A[p]\n",
    "            k = p        \n",
    "        \n",
    "    def sink(self, k):\n",
    "        A = self.A\n",
    "        N = self.N\n",
    "        \n",
    "        while k * 2 + 1 < N:\n",
    "            p = k\n",
    "            \n",
    "            if self.key(k) > self.key(k * 2 + 1):\n",
    "                p = k * 2 + 1\n",
    "                \n",
    "            if k * 2 + 2 < N and self.key(k) > self.key(k * 2 + 2):\n",
    "                p = k * 2 + 2\n",
    "            \n",
    "            if p == k:\n",
    "                break\n",
    "            \n",
    "            A[k], A[p] = A[p], A[k]\n",
    "            k = p            \n",
    "        \n",
    "    def getMin(self):\n",
    "        if self.N == 0:\n",
    "            raise Exception('PQ is empty')\n",
    "        \n",
    "        x = self.A[0]\n",
    "        \n",
    "        self.A[0] = self.A[self.N - 1]\n",
    "        self.N -= 1\n",
    "\n",
    "        self.sink(0)\n",
    "        \n",
    "        return x\n",
    "    \n",
    "    def insert(self, v, weight):\n",
    "        self.A.append((v, weight))\n",
    "        self.N += 1\n",
    "        \n",
    "        self.swim(self.N - 1)\n",
    "        \n",
    "    def decreaseKey(self, v, weight):\n",
    "        pass"
   ]
  },
  {
   "cell_type": "code",
   "execution_count": 18,
   "metadata": {},
   "outputs": [
    {
     "name": "stdout",
     "output_type": "stream",
     "text": [
      "[(4, 2), (2, 3), (1, 4), (0, 10), (3, 6), (5, 6)]\n",
      "6\n"
     ]
    }
   ],
   "source": [
    "pq = PQ()\n",
    "pq.insert(0, 10)\n",
    "pq.insert(1, 4)\n",
    "pq.insert(2, 3)\n",
    "pq.insert(3, 6)\n",
    "pq.insert(4, 2)\n",
    "pq.insert(5, 6)\n",
    "\n",
    "print (pq.A)\n",
    "print (pq.N)"
   ]
  }
 ],
 "metadata": {
  "kernelspec": {
   "display_name": "Python 3",
   "language": "python",
   "name": "python3"
  },
  "language_info": {
   "codemirror_mode": {
    "name": "ipython",
    "version": 3
   },
   "file_extension": ".py",
   "mimetype": "text/x-python",
   "name": "python",
   "nbconvert_exporter": "python",
   "pygments_lexer": "ipython3",
   "version": "3.6.2"
  }
 },
 "nbformat": 4,
 "nbformat_minor": 2
}
